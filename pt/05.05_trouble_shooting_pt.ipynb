{
 "cells": [
  {
   "cell_type": "markdown",
   "id": "extra-feeding",
   "metadata": {
    "slideshow": {
     "slide_type": "slide"
    }
   },
   "source": [
    "## 기대 수명에 영향을 미치는 요인에 대한 회귀 분석\n",
    "---\n",
    "6조 고세영 & 김현진\n",
    "<div>\n",
    "    <div style=\"text-align:center\";>\n",
    "    <img src=\"../imgs/youngandjin2.gif\", style='width=150px; height:530px;'>\n",
    "    </div>"
   ]
  },
  {
   "cell_type": "markdown",
   "id": "123b276b",
   "metadata": {
    "slideshow": {
     "slide_type": "slide"
    }
   },
   "source": [
    "#### Dataset\n",
    "- 출처: [Kaggle \"Life-Expectancy(WHO)\"](https://www.kaggle.com/kumarajarshi/life-expectancy-who)\n",
    "- 개요: 2000~2015년 193개국의 기대수명 및 관련 요인 데이터셋\n",
    "- 종속 변수(Target): 기대 수명\n",
    "- 독립 변수(Features): 총 19개 / 5개 대분류로 나누어 분석\n",
    "<div>\n",
    "    <img src='../imgs/col_def.png', width = '550'>\n",
    "</div>"
   ]
  },
  {
   "cell_type": "markdown",
   "id": "b7e7c42c",
   "metadata": {
    "slideshow": {
     "slide_type": "slide"
    }
   },
   "source": [
    "# Part1\n",
    "---\n",
    "# 결측치 처리"
   ]
  },
  {
   "cell_type": "markdown",
   "id": "opposite-heater",
   "metadata": {
    "slideshow": {
     "slide_type": "slide"
    }
   },
   "source": [
    "### 결측치 Missingno\n",
    "<div><img src='../imgs/data_missingno.png'/, width='1200'></div>"
   ]
  },
  {
   "cell_type": "markdown",
   "id": "945a4116",
   "metadata": {
    "slideshow": {
     "slide_type": "slide"
    }
   },
   "source": [
    "### Feature 대분류별 연도별 추이\n",
    "- 경제\n",
    "<div>\n",
    "<img src='../imgs/yearly_economy.png'/, width='1200'></div>"
   ]
  },
  {
   "cell_type": "markdown",
   "id": "c31ad24e",
   "metadata": {
    "slideshow": {
     "slide_type": "subslide"
    }
   },
   "source": [
    "- 사망률\n",
    "<div>\n",
    "<img src='../imgs/yearly_death.png'/, width='1300'></div>"
   ]
  },
  {
   "cell_type": "markdown",
   "id": "19f5cfc0",
   "metadata": {
    "slideshow": {
     "slide_type": "subslide"
    }
   },
   "source": [
    "- 유병률\n",
    "<div>\n",
    "<img src='../imgs/yearly_illness.png'/, width='1300'></div>"
   ]
  },
  {
   "cell_type": "markdown",
   "id": "0668ebe5",
   "metadata": {
    "slideshow": {
     "slide_type": "subslide"
    }
   },
   "source": [
    "- 예방접종\n",
    "<div>\n",
    "<img src='../imgs/yearly_vaccine.png'/, width='1300'></div>"
   ]
  },
  {
   "cell_type": "markdown",
   "id": "99c87b4e",
   "metadata": {
    "slideshow": {
     "slide_type": "subslide"
    }
   },
   "source": [
    "- 기타\n",
    "<div>\n",
    "<img src='../imgs/yearly_others.png'/, width='1300'></div>"
   ]
  },
  {
   "cell_type": "markdown",
   "id": "dc7459bb",
   "metadata": {
    "slideshow": {
     "slide_type": "slide"
    }
   },
   "source": [
    "### Region별 대분류별 연도별 추이\n",
    "- World bank 데이터 분류 기준 (총 7개)\n",
    "    - South Asia\n",
    "    - Sub-Saharan Africa\n",
    "    - Europe & Central Asia\n",
    "    - Middle East & North Africa\n",
    "    - Latin America & Caribbean\n",
    "    - East Asia & Pacific\n",
    "    - North America"
   ]
  },
  {
   "cell_type": "markdown",
   "id": "6e170722",
   "metadata": {
    "slideshow": {
     "slide_type": "subslide"
    }
   },
   "source": [
    "- 경제\n",
    "<div>\n",
    "<img src='../imgs/region_economy.png'/, width='2000'></div>"
   ]
  },
  {
   "cell_type": "markdown",
   "id": "e267f290",
   "metadata": {
    "slideshow": {
     "slide_type": "subslide"
    }
   },
   "source": [
    "- 사망률\n",
    "<div>\n",
    "<img src='../imgs/region_death.png'/, width='2000'></div>"
   ]
  },
  {
   "cell_type": "markdown",
   "id": "a20deb75",
   "metadata": {
    "slideshow": {
     "slide_type": "subslide"
    }
   },
   "source": [
    "- 유병률\n",
    "<div>\n",
    "<img src='../imgs/region_illness.png'/, width='2000'></div>"
   ]
  },
  {
   "cell_type": "markdown",
   "id": "596bdae6",
   "metadata": {
    "slideshow": {
     "slide_type": "subslide"
    }
   },
   "source": [
    "- 예방 접종\n",
    "<div>\n",
    "<img src='../imgs/region_vaccine.png'/, width='2000'></div>"
   ]
  },
  {
   "cell_type": "markdown",
   "id": "613482e7",
   "metadata": {
    "slideshow": {
     "slide_type": "subslide"
    }
   },
   "source": [
    "- 기타\n",
    "<div>\n",
    "<img src='../imgs/region_others.png'/, width='2200'></div>"
   ]
  },
  {
   "cell_type": "markdown",
   "id": "36a07f47",
   "metadata": {
    "slideshow": {
     "slide_type": "slide"
    }
   },
   "source": [
    "### 결측치 처리 방법\n",
    "1. 국가 자체 삭제\n",
    "    - 행이 1개인 국가\n",
    "        - Monaco, Nauru, Dominica, Palau, Tuvalu, San Marino, Marshall Islands, St.Kitts and Nevis\n",
    "    - 데이터를 구하기 어려운 국가\n",
    "        - North Korea\n",
    "    - 컬럼별 결측치 다수 존재하는 국가\n",
    "        - Somalia\n",
    "2. 신규 데이터로 컬럼 전체 교체\n",
    "    - World Bank의 국가별 데이터 참고\n",
    "        - Percentage Expenditure, infant_death, GDP, Population\n",
    "    - 일부 누락된 연도별 데이터 참고 (http://hdr.undp.org/en/content/download-data)\n",
    "        - Income Composition of Resources"
   ]
  },
  {
   "cell_type": "markdown",
   "id": "af37fd08",
   "metadata": {
    "slideshow": {
     "slide_type": "subslide"
    }
   },
   "source": [
    "3. 결측치를 제외한 Mean값으로 대체<br>\n",
    "    - 국가별 Mean값으로 대체\n",
    "        - 국가 내 특정 연도만 결측치가 있는 경우\n",
    "            - Total expenditure : 최근 2개년(2013~2014 평균)\n",
    "            - Schooling, HepatitisB, Diphtheria : 결측치가 있는 연도를 제외한 나머지 평균<br><br>\n",
    "    - Region별 연도별 Mean값으로 대체\n",
    "        - 국가 전체 행이 모두 결측치인 경우\n",
    "            - Schooling : Region별 평균으로 대체\n",
    "<br><br>\n",
    "4. 나라별 연도별 증감률 추이에 따라 처리\n",
    "    - 다수의 1개 연도만 비어있는 국가는 나라별 연도별 증감률 추이에 맞춰 결측치 처리\n",
    "        - Alcohol"
   ]
  },
  {
   "cell_type": "markdown",
   "id": "254f8613",
   "metadata": {
    "slideshow": {
     "slide_type": "subslide"
    }
   },
   "source": [
    "### 결측치 ZERO!\n",
    "<div>\n",
    "<img src='../imgs/notnull_missingno.png'/ width='1200'></div>"
   ]
  },
  {
   "cell_type": "markdown",
   "id": "47016704",
   "metadata": {
    "slideshow": {
     "slide_type": "slide"
    }
   },
   "source": [
    "# Part2\n",
    "---\n",
    "# 간단한 EDA"
   ]
  },
  {
   "cell_type": "markdown",
   "id": "surrounded-journey",
   "metadata": {
    "slideshow": {
     "slide_type": "slide"
    }
   },
   "source": [
    "### 데이터의 나라별 구분 비중 확인\n",
    "- Region에 따른 분포\n",
    "- 개발 유무에 따른 분포\n",
    "<img src='../imgs/pie_region.png' style='width:950px; height:520px;'/>"
   ]
  },
  {
   "cell_type": "markdown",
   "id": "d05d43a9",
   "metadata": {
    "slideshow": {
     "slide_type": "subslide"
    }
   },
   "source": [
    "<img src='../imgs/pie_develop.png' style='width:1000px; height:550px;'/>"
   ]
  },
  {
   "cell_type": "markdown",
   "id": "c46303c1",
   "metadata": {
    "slideshow": {
     "slide_type": "slide"
    }
   },
   "source": [
    "### Features Heatmap\n",
    "<div><img src='../imgs/heatmap_multicollinearity.png', width='850'></div> "
   ]
  },
  {
   "cell_type": "markdown",
   "id": "mechanical-billion",
   "metadata": {
    "slideshow": {
     "slide_type": "subslide"
    }
   },
   "source": [
    "### 다중공선성이 의심되는 컬럼\n",
    "- Income composition of Resources & Schooling <br>\n",
    "<div><img src='../imgs/human_development_index_HDI.png', width='1000'></div>"
   ]
  },
  {
   "cell_type": "markdown",
   "id": "230d0255",
   "metadata": {
    "slideshow": {
     "slide_type": "subslide"
    }
   },
   "source": [
    "### 기대수명과 상관관계가 높은 Features\n",
    "- 경제: Income composition of Resources (0.8)\n",
    "- 기타: Schooling (0.8)\n",
    "- 사망률: Infant Death (-0.9), Adult Mortality (-0.7), HIV/AIDS (-0.6)"
   ]
  },
  {
   "cell_type": "markdown",
   "id": "outer-queue",
   "metadata": {
    "slideshow": {
     "slide_type": "slide"
    }
   },
   "source": [
    "### 상관관계가 높은 Features 나라별 추이\n",
    "<img src='../imgs/schooling.png'/>"
   ]
  },
  {
   "cell_type": "markdown",
   "id": "2f232c6d",
   "metadata": {
    "slideshow": {
     "slide_type": "subslide"
    }
   },
   "source": [
    "<img src='../imgs/hdi.png'/>"
   ]
  },
  {
   "cell_type": "markdown",
   "id": "9397cb2a",
   "metadata": {
    "slideshow": {
     "slide_type": "subslide"
    }
   },
   "source": [
    "<img src='../imgs/infant_deaths.png'/>"
   ]
  },
  {
   "cell_type": "markdown",
   "id": "sorted-moment",
   "metadata": {},
   "source": [
    "<img src='../imgs/adult_mortality.png'/>"
   ]
  },
  {
   "cell_type": "markdown",
   "id": "921217fd",
   "metadata": {
    "slideshow": {
     "slide_type": "subslide"
    }
   },
   "source": [
    "<img src='../imgs/hiv.png'/>"
   ]
  },
  {
   "cell_type": "markdown",
   "id": "authorized-stand",
   "metadata": {
    "slideshow": {
     "slide_type": "subslide"
    }
   },
   "source": [
    "### 우리가 분석할 Target<br>\n",
    "<img src='../imgs/life_expectancy.png'/>"
   ]
  }
 ],
 "metadata": {
  "celltoolbar": "Slideshow",
  "kernelspec": {
   "display_name": "Python 3",
   "language": "python",
   "name": "python3"
  },
  "language_info": {
   "codemirror_mode": {
    "name": "ipython",
    "version": 3
   },
   "file_extension": ".py",
   "mimetype": "text/x-python",
   "name": "python",
   "nbconvert_exporter": "python",
   "pygments_lexer": "ipython3",
   "version": "3.7.10"
  }
 },
 "nbformat": 4,
 "nbformat_minor": 5
}
