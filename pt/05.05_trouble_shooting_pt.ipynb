{
 "cells": [
  {
   "cell_type": "markdown",
   "id": "extra-feeding",
   "metadata": {},
   "source": [
    "## 기대 수명에 영향을 미치는 요인에 대한 회귀 분석\n",
    "---\n",
    "6조 고세영 & 김현진\n",
    "\n",
    "#### Dataset\n",
    "- 출처: [Kaggle \"Life-Expectancy(WHO)\"](https://www.kaggle.com/kumarajarshi/life-expectancy-who)\n",
    "- 개요: 2000~2015년 193개국의 기대수명 및 관련 요인 데이터셋\n",
    "- 종속 변수(Target): 기대 수명\n",
    "- 독립 변수(Features)\n",
    "    - 총 19개 / 4개 대분류로 나누어 분석\n",
    "<div>\n",
    "    <img src='../imgs/col_definition.png' style='height:450px';/>\n",
    "</div>"
   ]
  },
  {
   "cell_type": "markdown",
   "id": "informational-nurse",
   "metadata": {},
   "source": [
    "## 결측치 작업 \n",
    "결측치 작업 전 컬럼의 연도별 추이 확인<br>\n",
    "- #### 연도에 따른 평균 추이 \n",
    "<img src='../imgs/subplots_country.png' style='width:1500px; height:800px;'/>\n",
    "- #### 연도에 따른 리전별 추이\n",
    "<img src='../imgs/subplots_region.png' style='width:1800px; height:1200px;'/>"
   ]
  },
  {
   "cell_type": "markdown",
   "id": "opposite-heater",
   "metadata": {},
   "source": [
    "## 결측치 처리 방법\n",
    "1. 국가 자체 삭제\n",
    "    - 행이 1개인 국가\n",
    "        - Monaco, Nauru, Dominica, Palau, Tuvalu, San Marino, Marshall Islands, St.Kitts and Nevis\n",
    "    - 데이터를 구하기 어려운 국가\n",
    "        - 북한\n",
    "    - 컬럼별 결측치 다수 존재하는 국가\n",
    "        - Somalia\n",
    "<br><br>\n",
    "2. 신규 데이터로 컬럼 전체 교체\n",
    "    - World Bank의 국가별 데이터 참고\n",
    "        - Percentage Expenditure, infant_death, GDP, Population\n",
    "    - 일부 누락된 연도별 데이터 참고 (http://hdr.undp.org/en/content/download-data)\n",
    "        - Income Composition of Resources\n",
    "<br><br>\n",
    "3. 결측치를 제외한 Mean값으로 대체<br>\n",
    "    - 국가별 Mean값으로 대체\n",
    "        - 국가 내 특정 연도만 결측치가 있는 경우\n",
    "            - Total expenditure : 최근 2개년(2013~2014 평균)\n",
    "            - Schooling, HepatitisB, Diphtheria : 결측치가 있는 연도를 제외한 나머지 평균<br><br>\n",
    "    - Region별 연도별 Mean값으로 대체\n",
    "        - 국가 전체 행이 모두 결측치인 경우\n",
    "            - Schooling : Region별 평균으로 대체\n",
    "<br><br>\n",
    "4. 나라별 연도별 증감률 추이에 따라 처리\n",
    "    - 다수의 1개 연도만 비어있는 국가는 나라별 연도별 증감률 추이에 맞춰 결측치 처리\n",
    "        - Alcohol\n",
    "<img src='../imgs/notnull_missingno.png'/>"
   ]
  },
  {
   "cell_type": "markdown",
   "id": "mechanical-billion",
   "metadata": {},
   "source": [
    "## 연도별 나라별 간단한 EDA\n",
    "\n",
    "### 다중공선성이 의심되는 컬럼\n",
    "- Income composition of Resources\n",
    "- Schooling\n",
    "\n",
    "<img src='../imgs/heatmap_multicollinearity.png'/>\n",
    "\n",
    "### 기대수명과 상관관계가 높은 feature\n",
    "- Income composition of Resources (0.8)\n",
    "- Schooling (0.8)\n",
    "- HIV/AIDS (-0.6)\n",
    "- Infant Death (-0.9)\n",
    "- Adult Mortality (-0.7)"
   ]
  },
  {
   "cell_type": "markdown",
   "id": "surrounded-journey",
   "metadata": {},
   "source": [
    "### 데이터의 나라별 구분 비중 확인\n",
    "- Region에 따른 분포\n",
    "- 개발 유무에 따른 분포\n",
    "<img src='../imgs/pie_region.png' style='width:850px; height:450px;'/>\n",
    "<img src='../imgs/pie_develop.png' style='width:850px; height:450px;'/>"
   ]
  },
  {
   "cell_type": "markdown",
   "id": "outer-queue",
   "metadata": {},
   "source": [
    "### 나라별 추이\n",
    "<img src='../imgs/life_expectancy.png'/>\n",
    "<img src='../imgs/hdi.png'/>\n",
    "<img src='../imgs/infant_deaths.png'/>\n",
    "<img src='../imgs/hiv.png'/>"
   ]
  }
 ],
 "metadata": {
  "kernelspec": {
   "display_name": "Python 3",
   "language": "python",
   "name": "python3"
  },
  "language_info": {
   "codemirror_mode": {
    "name": "ipython",
    "version": 3
   },
   "file_extension": ".py",
   "mimetype": "text/x-python",
   "name": "python",
   "nbconvert_exporter": "python",
   "pygments_lexer": "ipython3",
   "version": "3.7.10"
  }
 },
 "nbformat": 4,
 "nbformat_minor": 5
}
